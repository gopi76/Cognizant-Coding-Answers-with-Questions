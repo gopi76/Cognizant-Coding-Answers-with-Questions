{
 "cells": [
  {
   "cell_type": "markdown",
   "id": "9be126ff",
   "metadata": {},
   "source": [
    "# Cognizant Coding Answers with Questions  [august 13,2022] - 2 to 4 pm"
   ]
  },
  {
   "cell_type": "markdown",
   "id": "5652136e",
   "metadata": {},
   "source": [
    "# Difference between Longest palindrome Substring and shortest Palindrome String"
   ]
  },
  {
   "cell_type": "code",
   "execution_count": 45,
   "id": "953c6ffc",
   "metadata": {},
   "outputs": [
    {
     "name": "stdout",
     "output_type": "stream",
     "text": [
      "2\n"
     ]
    }
   ],
   "source": [
    "class UserMainCode(object):\n",
    "    @classmethod\n",
    "    def difference(cls,str):\n",
    "        return longestPalSubstr - ShortestPalindrome\n",
    "def ShortestPalindrome(str):\n",
    " \n",
    "    n = len(str)\n",
    "    ans = s[0]\n",
    "\n",
    "    for i in range(1, n):\n",
    "        ans = min(ans, s[i])\n",
    " \n",
    "    return len(ans) #prints 1\n",
    "\n",
    "def longestPalSubstr(str):\n",
    "\n",
    "\tn = len(str)\n",
    "\n",
    "\tmaxLength = 1\n",
    "\tstart = 0\n",
    "\n",
    "\tfor i in range(n):\n",
    "\t\tfor j in range(i, n):\n",
    "\t\t\tflag = 1\n",
    "\n",
    "\t\t\tfor k in range(0, ((j - i) // 2) + 1):\n",
    "\t\t\t\tif (str[i + k] != str[j - k]):\n",
    "\t\t\t\t\tflag = 0\n",
    "\n",
    "\t\t\tif (flag != 0 and (j - i + 1) > maxLength):\n",
    "\t\t\t\tstart = i\n",
    "\t\t\t\tmaxLength = j - i + 1\n",
    "\t\t\t\t\n",
    "\t\n",
    "\treturn maxLength #prints 5\n",
    "\n",
    "cls = len(str)\n",
    "\n",
    "if __name__ == '__main__':\n",
    "\n",
    "\tstr = \"abac\" #for level answer is  4\n",
    "   \n",
    "\t\n",
    "\tprint(longestPalSubstr(str) - ShortestPalindrome(str)) #5-1 it prints 4 \n"
   ]
  },
  {
   "cell_type": "markdown",
   "id": "ba0151e0",
   "metadata": {},
   "source": [
    "# A boy is lost in an infinitely long 1 dimensional jungle.the jungle is such that if the boy is standing at location N the the next step he would be moved to location (N/2) iif N is even and (3N+1) if it is Odd\n",
    "#input value is m or n"
   ]
  },
  {
   "cell_type": "code",
   "execution_count": 46,
   "id": "df64f606",
   "metadata": {},
   "outputs": [
    {
     "name": "stdout",
     "output_type": "stream",
     "text": [
      "3\n"
     ]
    }
   ],
   "source": [
    "def collatzLenUtil(n, collLenMap):\n",
    "\n",
    "\tif n in collLenMap:\n",
    "\t\treturn collLenMap[n]\n",
    "\n",
    "\tif(n == 1):\n",
    "\t\tcollLenMap[n] = 1\n",
    "\n",
    "\t# Even case\n",
    "\telif(n % 2 == 0):\n",
    "\t\tcollLenMap[n] \\\n",
    "\t\t= 1 \\\n",
    "\t\t+ collatzLenUtil(n//2, collLenMap)\n",
    "\n",
    "\telse:\n",
    "\t\tcollLenMap[n] \\\n",
    "\t\t= 1 \\\n",
    "\t\t+ collatzLenUtil(3 * n + 1, collLenMap)\n",
    "\t\n",
    "\treturn collLenMap[n]\n",
    "\n",
    "def collatzLen(n):\n",
    "\tcollLenMap = {}\n",
    "\tcollatzLenUtil(n, collLenMap)\n",
    "\tnum, l =-1, 0\n",
    "\t\n",
    "\tfor i in range(1, n):\n",
    "\t\tif i not in collLenMap:\n",
    "\t\t\tcollatzLenUtil(i, collLenMap)\n",
    "\t\t\n",
    "\t\tcLen = collLenMap[i]\n",
    "\t\tif l < cLen:\n",
    "\t\t\tl = cLen\n",
    "\t\t\tnum = i\n",
    "\t\n",
    "\t# Return ans and\n",
    "\t# its collatz length\n",
    "\treturn (num)\n",
    "\n",
    "print(collatzLen(5))\n"
   ]
  },
  {
   "cell_type": "code",
   "execution_count": null,
   "id": "c6a2a36d",
   "metadata": {},
   "outputs": [],
   "source": []
  }
 ],
 "metadata": {
  "kernelspec": {
   "display_name": "Python 3 (ipykernel)",
   "language": "python",
   "name": "python3"
  },
  "language_info": {
   "codemirror_mode": {
    "name": "ipython",
    "version": 3
   },
   "file_extension": ".py",
   "mimetype": "text/x-python",
   "name": "python",
   "nbconvert_exporter": "python",
   "pygments_lexer": "ipython3",
   "version": "3.9.12"
  }
 },
 "nbformat": 4,
 "nbformat_minor": 5
}
